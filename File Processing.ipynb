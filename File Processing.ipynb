{
 "cells": [
  {
   "cell_type": "code",
   "execution_count": 1,
   "id": "445204c7",
   "metadata": {},
   "outputs": [],
   "source": [
    "import pandas as pd\n",
    "import numpy as np\n",
    "import matplotlib.pyplot as plt\n",
    "import pickle"
   ]
  },
  {
   "cell_type": "code",
   "execution_count": null,
   "id": "86ca71f9",
   "metadata": {},
   "outputs": [],
   "source": [
    "#Directory variables\n",
    "\n",
    "PROTEIN_SCORE_DIR = 'fuzzy_python_results'\n",
    "REDUCED_PROTEIN_SCORE_DIR_OB = 'vprec_ob_results'\n",
    "REDUCED_PROTEIN_SCORE_DIR_IB = 'vprec_ib_results'\n",
    "IEEE_DIR = 'IEEE'\n",
    "IEEE_PROTEIN_SCORE_REF = 'ieee_ref.pkl'\n",
    "INSTR_LIB = 'py'\n",
    "THRESHOLD = 0.3"
   ]
  },
  {
   "cell_type": "markdown",
   "id": "9c2fc7c4",
   "metadata": {},
   "source": [
    "## Restructure protein results to calculate metrics"
   ]
  },
  {
   "cell_type": "code",
   "execution_count": null,
   "id": "3291d3b2",
   "metadata": {},
   "outputs": [],
   "source": [
    "new_dict = {}\n",
    "f=open('data-1.0.6/data/predictions.pkl', 'rb')\n",
    "predictions = pickle.load(f)\n",
    "\n",
    "for i in range(1,10):\n",
    "    new_dict[i] = {}\n",
    "    for j in range(0,646):\n",
    "        f = open(PROTEIN_SCORE_DIR + '/%s_%s.pkl'%(i,j), 'rb')\n",
    "        pkl_dict = pickle.load(f)\n",
    "        \n",
    "        for protein in pkl_dict.keys():\n",
    "            new_dict[i][protein] = pkl_dict[protein]\n",
    "\n",
    "for i in new_dict:\n",
    "    \n",
    "    df = pd.DataFrame({'proteins': new_dict[i].keys(), 'prop_annotations':[list(predictions.loc[predictions['proteins'] == x]['prop_annotations'])[0] for x in new_dict[i]], 'preds':[list(new_dict[i][x].values()) for x in new_dict[i]]})\n",
    "    df.to_pickle(PROTEIN_SCORE_DIR + '/pkl_%s.pkl'%i)"
   ]
  },
  {
   "cell_type": "markdown",
   "id": "37d533c4",
   "metadata": {},
   "source": [
    "#### Reduced precision protein results for outbound mode"
   ]
  },
  {
   "cell_type": "code",
   "execution_count": null,
   "id": "d8774e38",
   "metadata": {},
   "outputs": [],
   "source": [
    "new_dict = {}\n",
    "f=open('data-1.0.6/data/predictions.pkl', 'rb')\n",
    "predictions = pickle.load(f)\n",
    "\n",
    "for f1 in [23,7]:\n",
    "    for f2 in [23,10,7]:\n",
    "        \n",
    "        new_dict['%s_%s'%(f1,f2)] = {}\n",
    "        \n",
    "        for i in range(0,646):\n",
    "            \n",
    "            f = open(REDUCED_PROTEIN_SCORE_DIR_OB + '/%s_%s_%s.pkl'%(f1,f2,i), 'rb')\n",
    "            temp = pickle.load(f)\n",
    "            \n",
    "            pkl_dict = {}\n",
    "            for prot in temp:\n",
    "                pkl_dict[prot] = {}\n",
    "                for go_id in temp[prot]:\n",
    "                    if temp[prot][go_id] >= 0.3: #REMOVE IF NO THRESHOLD\n",
    "                        pkl_dict[prot][go_id] = np.float64(temp[prot][go_id])\n",
    "                        \n",
    "            for protein in pkl_dict.keys():\n",
    "                new_dict['%s_%s'%(f1,f2)][protein] = pkl_dict[protein]\n",
    "\n",
    "for i in new_dict:\n",
    "        df = pd.DataFrame({'proteins': new_dict[i].keys(), 'prop_annotations':[list(predictions.loc[predictions['proteins'] == x]['prop_annotations'])[0] for x in new_dict[i]], 'preds':[list(new_dict[i][x].values()) for x in new_dict[i]]})\n",
    "        df.to_pickle(REDUCED_PROTEIN_SCORE_DIR_OB + '/%s.pkl'%i)       \n",
    "\n"
   ]
  },
  {
   "cell_type": "markdown",
   "id": "8ea9f33f",
   "metadata": {},
   "source": [
    "#### Reduced precision protein results for inbound mode"
   ]
  },
  {
   "cell_type": "code",
   "execution_count": null,
   "id": "6d3d68c9",
   "metadata": {},
   "outputs": [],
   "source": [
    "new_dict = {}\n",
    "f=open('data-1.0.6/data/predictions.pkl', 'rb')\n",
    "predictions = pickle.load(f)\n",
    "\n",
    "for f1 in [23,7,2]:\n",
    "    for f2 in [23,10,7]:\n",
    "        \n",
    "        new_dict['%s_%s'%(f1,f2)] = {}\n",
    "        \n",
    "        for i in range(0,646):\n",
    "            \n",
    "            f = open(REDUCED_PROTEIN_SCORE_DIR_IB + '/%s_%s_%s.pkl'%(f1,f2,i), 'rb')\n",
    "            temp = pickle.load(f)\n",
    "            \n",
    "            pkl_dict = {}\n",
    "            for prot in temp:\n",
    "                pkl_dict[prot] = {}\n",
    "                for go_id in temp[prot]:\n",
    "                    if temp[prot][go_id] >= 0.3: #REMOVE IF NO THRESHOLD\n",
    "                        pkl_dict[prot][go_id] = np.float64(temp[prot][go_id])\n",
    "                        \n",
    "            for protein in pkl_dict.keys():\n",
    "                new_dict['%s_%s'%(f1,f2)][protein] = pkl_dict[protein]\n",
    "\n",
    "for i in new_dict:\n",
    "        df = pd.DataFrame({'proteins': new_dict[i].keys(), 'prop_annotations':[list(predictions.loc[predictions['proteins'] == x]['prop_annotations'])[0] for x in new_dict[i]], 'preds':[list(new_dict[i][x].values()) for x in new_dict[i]]})\n",
    "        df.to_pickle(REDUCED_PROTEIN_SCORE_DIR_IB + '/%s.pkl'%i)       \n",
    "\n"
   ]
  },
  {
   "cell_type": "markdown",
   "id": "3089a8e4",
   "metadata": {},
   "source": [
    "#### IEEE version"
   ]
  },
  {
   "cell_type": "code",
   "execution_count": null,
   "id": "faa8e760",
   "metadata": {},
   "outputs": [],
   "source": [
    "new_dict = {}\n",
    "f=open('data-1.0.6/data/predictions.pkl', 'rb')\n",
    "predictions = pickle.load(f)\n",
    "f = open(IEEE_DIR + '/' + IEEE_PROTEIN_SCORE_REF, 'rb')\n",
    "pkl_dict = pickle.load(f)\n",
    "\n",
    "for protein in pkl_dict.keys():\n",
    "    new_dict[protein] = pkl_dict[protein]\n",
    "    \n",
    "    \n",
    "df = pd.DataFrame({'proteins': new_dict.keys(), 'prop_annotations':[list(predictions.loc[predictions['proteins'] == x]['prop_annotations'])[0] for x in new_dict], 'preds':[list(new_dict[x].values()) for x in new_dict]})\n",
    "\n",
    "df.to_pickle(IEEE + '/' + 'pickled_ieee_ref.pkl')"
   ]
  },
  {
   "cell_type": "markdown",
   "id": "d50a78d1",
   "metadata": {},
   "source": [
    "## Gather protein results"
   ]
  },
  {
   "cell_type": "code",
   "execution_count": null,
   "id": "eb987ff2",
   "metadata": {},
   "outputs": [],
   "source": [
    "docker_pred = {}\n",
    "for i in range(1,11):\n",
    "#     for j in range(0,646):\n",
    "#         if j >= 573 and j <= 599: continue\n",
    "    f = open(PROTEIN_SCORE_DIR + '/%s.pkl'%(i), 'rb') #modify to point to correct directory\n",
    "\n",
    "    pkl_dict = pickle.load(f)\n",
    "\n",
    "#         pkl_dict = {}\n",
    "#         for prot in temp:\n",
    "#             pkl_dict[prot] = {}\n",
    "#             for go_id in temp[prot]:\n",
    "#                 if temp[prot][go_id] >= THRESHOLD:\n",
    "#                     pkl_dict[prot][go_id] = np.float64(temp[prot][go_id])\n",
    "\n",
    "    for protein in pkl_dict.keys():\n",
    "        if i == 1:\n",
    "            docker_pred[protein] = {}\n",
    "            for go_id in pkl_dict[protein]:\n",
    "                docker_pred[protein][go_id] = np.array([pkl_dict[protein][go_id]])\n",
    "        else:\n",
    "\n",
    "            for go_id in pkl_dict[protein]:\n",
    "                docker_pred[protein][go_id] = np.append(docker_pred[protein][go_id], pkl_dict[protein][go_id])\n",
    "\n",
    "original_file = open(IEEE_DIR + '/' + IEEE_PROTEIN_SCORE_REF, 'rb')\n",
    "pkl_dict = pickle.load(original_file)\n",
    "original_results = {}\n",
    "\n",
    "for protein in pkl_dict:\n",
    "    original_results[protein] = pkl_dict[protein]\n"
   ]
  },
  {
   "cell_type": "markdown",
   "id": "4f2b1abf",
   "metadata": {},
   "source": [
    "## Restructure references for significant digits calculation"
   ]
  },
  {
   "cell_type": "markdown",
   "id": "e28837e3",
   "metadata": {},
   "source": [
    "#### Protein scores"
   ]
  },
  {
   "cell_type": "code",
   "execution_count": null,
   "id": "8547ac29",
   "metadata": {},
   "outputs": [],
   "source": [
    "multi_iter = {}\n",
    "for num, protein in enumerate(sorted(list(original_results.keys()))):\n",
    "    multi_iter[protein] = np.array(list(original_results[protein].values()))\n",
    "\n",
    "np.save('References/ref_deepgoplus_proteins_' + INSTR_LIB, np.array(list(multi_iter.values()))) "
   ]
  },
  {
   "cell_type": "markdown",
   "id": "6d66f20b",
   "metadata": {},
   "source": [
    "#### Metrics"
   ]
  },
  {
   "cell_type": "code",
   "execution_count": null,
   "id": "b5e3301a",
   "metadata": {},
   "outputs": [],
   "source": [
    "for i in ['bp', 'cc', 'mf']:\n",
    "    metric_file = open(IEEE_DIR + '/%s.txt'%i)\n",
    "    ref = open('References/ref_%s.txt'%i, 'w') # open('significant_digits2/References/ref_%s_results.txt'%i, 'w')\n",
    "\n",
    "    for i, row in enumerate(metric_file):\n",
    "        if i == 0: continue\n",
    "        ref.write(row.split(': ')[-1])\n",
    "    \n",
    "    ref.close()"
   ]
  },
  {
   "cell_type": "markdown",
   "id": "96937ba3",
   "metadata": {},
   "source": [
    "## Restructure results for significant digits calculation"
   ]
  },
  {
   "cell_type": "markdown",
   "id": "662d998a",
   "metadata": {},
   "source": [
    "#### Protein scores"
   ]
  },
  {
   "cell_type": "code",
   "execution_count": null,
   "id": "c3b45265",
   "metadata": {},
   "outputs": [],
   "source": [
    "multi_iter = {}\n",
    "for num, protein in enumerate(sorted(list(docker_pred.keys()))):\n",
    "\n",
    "    ref = np.array(list(docker_pred[protein].values()))\n",
    "    temp = []\n",
    "    for i in range(10):\n",
    "        temp.append(np.array(ref[:,i]))\n",
    "    multi_iter[protein] = np.array(temp)\n",
    "        \n",
    "#modify names according to what results are being restructured\n",
    "f = open('References/deepgoplus_proteins_%s.pkl'%INSTR_LIB, 'wb')\n",
    "pickle.dump(multi_iter,f)"
   ]
  },
  {
   "cell_type": "markdown",
   "id": "96d587e2",
   "metadata": {},
   "source": [
    "#### Metrics"
   ]
  },
  {
   "cell_type": "code",
   "execution_count": null,
   "id": "c0b1ad89",
   "metadata": {},
   "outputs": [],
   "source": [
    "ont_array = {}\n",
    "for ont in ['bp', 'cc', 'mf']:\n",
    "    metric_array = []\n",
    "    for num in range(1,11):\n",
    "        metric_file = open(PROTEIN_SCORE_DIR + '/%s_%s.txt'%(ont, num))\n",
    "        \n",
    "        for i, row in enumerate(metric_file):\n",
    "#             if 'Length' in row or 'Precision' in row or 'Recall' in row or 'Positive' in row or 'Negative' in row or 'Smin threshold' in row: continue\n",
    "            if 'Length' in row: continue\n",
    "        \n",
    "            metric_array.append(np.float64(row.split(': ')[-1]))\n",
    "\n",
    "    ont_array[ont] = np.array(metric_array).reshape(10,4)\n",
    "    \n",
    "    #modify names according to what metrics are being restructured\n",
    "    np.save('References/%s_%s'%(ont, INSTR_LIB), ont_array[ont])"
   ]
  }
 ],
 "metadata": {
  "kernelspec": {
   "display_name": "Python 3 (ipykernel)",
   "language": "python",
   "name": "python3"
  },
  "language_info": {
   "codemirror_mode": {
    "name": "ipython",
    "version": 3
   },
   "file_extension": ".py",
   "mimetype": "text/x-python",
   "name": "python",
   "nbconvert_exporter": "python",
   "pygments_lexer": "ipython3",
   "version": "3.8.10"
  }
 },
 "nbformat": 4,
 "nbformat_minor": 5
}
